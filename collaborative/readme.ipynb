{
 "cells": [
  {
   "cell_type": "markdown",
   "id": "3921fb86623730d3",
   "metadata": {},
   "source": [
    "# 1) Content Introduction\n",
    "This part is about Collaborative Filtering(itemcf/usercf) and Matrix Factorization(svd), based on two datasets: lastfm and ml32m.\n",
    "## Author\n",
    "- Name: Su Qiu Lin\n",
    "- Number: 72405483\n",
    "\n",
    "# 2) Project Structure\n",
    "collaborative/\n",
    "- lastfm.py\n",
    "- ml32m.py\n",
    "- readme.ipynb\n",
    "- requirements.txt\n",
    "\n",
    "datas/\n",
    "\n",
    "- hetrec2011-lastfm-2k/\n",
    "    - user_artists.dat\n",
    "    - artists.dat\n",
    "- ml-32m/\n",
    "    - ratings.csv\n",
    "    - movies.csv\n",
    "\n",
    "## 3) To run and reproduction\n",
    "### 1. Install the requirements.txt\n",
    "using \"pip install -r requirements.txt\" to install all dependencies\n",
    "### 2. Make sure dataset in above structure and modify hyperparameters\n",
    "#### (1) Modify the path in both files (If comes \"No Such File\")\n",
    "Due to the difference of operating systems, the path may be different.\n",
    "- def load_lastfm:  **path=\"./datas/hetrec2011-lastfm-2k\"**  or  **path=\"../datas/hetrec2011-lastfm-2k\"**\n",
    "- def load_ml32m: **path=\"./datas/hetrec2011-lastfm-2k\"** or  **path=\"../datas/hetrec2011-lastfm-2k\"**\n",
    "#### (2) Modify the hyperparameters in the \"main\" function in the two python file.\n",
    "or using the default hyperparameters.\n",
    "### 3. Run lastfm.py and ml32m.py file independently or just run below scripts of this notebook, both same.\n"
   ]
  },
  {
   "cell_type": "markdown",
   "id": "4194fd7c4e0ec2f6",
   "metadata": {},
   "source": [
    "# 4) Summary\n",
    "| Method       | Advantages | Disadvantages |\n",
    "|--------------|------------|---------------|\n",
    "| **ItemCF**   | • Good performance for stable item preferences<br>• Strong interpretability of recommendations<br>• No need to recalculate when new users join<br>• Well-suited for items with rich features<br>• Pre-computed similarities can be stored | • Poor performance with sparse item data<br>• Performance degrades with large item catalogs<br>• Cold-start problem for new items<br>• Cannot capture latent factors<br>• Limited diversity in recommendations |\n",
    "| **UserCF**   | • Works well with sparse user data<br>• Can discover users' emerging interests<br>• Sensitive to changes in user preferences<br>• Intuitive algorithm concept<br>• Good for social recommendations | • Poor scalability with large user bases<br>• Sensitive to popular items<br>• Cold-start problem for new users<br>• Requires frequent recalculation<br>• Accuracy decreases when user interests are diverse |\n",
    "| **MF (SVD)** | • Strong ability to handle sparse data<br>• Can discover latent feature factors<br>• Good scalability for large datasets<br>• High prediction accuracy<br>• Effective with high-dimensional features | • Poor interpretability of recommendations<br>• Cold-start problem for new users/items<br>• Requires hyperparameter tuning<br>• High computational cost for model training<br>• Difficult to update in real-time |"
   ]
  },
  {
   "cell_type": "markdown",
   "id": "b2fad876232fad65",
   "metadata": {},
   "source": [
    "# 5) Experiment Snapshot\n",
    "## 1. lastfm.py - ItemCF/UserCF/SVD\n",
    "- You can modify the hyperparameters in the lastfm.py, then run below script, or using the default hyperparameters."
   ]
  },
  {
   "metadata": {
    "ExecuteTime": {
     "end_time": "2025-04-16T13:29:29.067379Z",
     "start_time": "2025-04-16T13:26:05.724811Z"
    }
   },
   "cell_type": "code",
   "source": "!python lastfm.py",
   "id": "ea9dfddc4970f788",
   "outputs": [
    {
     "name": "stdout",
     "output_type": "stream",
     "text": [
      "Testing different hyperparameter combinations...\r\n",
      "Testing hyperparameters:   0%|                            | 0/1 [00:00<?, ?it/s]Evaluating recommendations for 30 users...\r\n",
      "\r\n",
      "Evaluating:   0%|                                        | 0/30 [00:00<?, ?it/s]\u001B[A\r\n",
      "Evaluating:   3%|█                               | 1/30 [00:06<02:54,  6.01s/it]\u001B[A\r\n",
      "Evaluating:   7%|██▏                             | 2/30 [00:11<02:42,  5.82s/it]\u001B[A\r\n",
      "Evaluating:  10%|███▏                            | 3/30 [00:17<02:35,  5.75s/it]\u001B[A\r\n",
      "Evaluating:  13%|████▎                           | 4/30 [00:23<02:29,  5.74s/it]\u001B[A\r\n",
      "Evaluating:  17%|█████▎                          | 5/30 [00:28<02:23,  5.75s/it]\u001B[A\r\n",
      "Evaluating:  20%|██████▍                         | 6/30 [00:34<02:20,  5.87s/it]\u001B[A\r\n",
      "Evaluating:  23%|███████▍                        | 7/30 [00:40<02:14,  5.85s/it]\u001B[A\r\n",
      "Evaluating:  27%|████████▌                       | 8/30 [00:46<02:07,  5.78s/it]\u001B[A\r\n",
      "Evaluating:  30%|█████████▌                      | 9/30 [00:53<02:12,  6.31s/it]\u001B[A\r\n",
      "Evaluating:  33%|██████████▎                    | 10/30 [01:00<02:09,  6.47s/it]\u001B[A\r\n",
      "Evaluating:  37%|███████████▎                   | 11/30 [01:07<02:02,  6.43s/it]\u001B[A\r\n",
      "Evaluating:  40%|████████████▍                  | 12/30 [01:13<01:54,  6.36s/it]\u001B[A\r\n",
      "Evaluating:  43%|█████████████▍                 | 13/30 [01:19<01:48,  6.41s/it]\u001B[A\r\n",
      "Evaluating:  47%|██████████████▍                | 14/30 [01:26<01:44,  6.53s/it]\u001B[A\r\n",
      "Evaluating:  50%|███████████████▌               | 15/30 [01:34<01:42,  6.81s/it]\u001B[A\r\n",
      "Evaluating:  53%|████████████████▌              | 16/30 [01:41<01:36,  6.93s/it]\u001B[A\r\n",
      "Evaluating:  57%|█████████████████▌             | 17/30 [01:47<01:28,  6.83s/it]\u001B[A\r\n",
      "Evaluating:  60%|██████████████████▌            | 18/30 [01:54<01:21,  6.78s/it]\u001B[A\r\n",
      "Evaluating:  63%|███████████████████▋           | 19/30 [02:01<01:14,  6.78s/it]\u001B[A\r\n",
      "Evaluating:  67%|████████████████████▋          | 20/30 [02:07<01:07,  6.74s/it]\u001B[A\r\n",
      "Evaluating:  70%|█████████████████████▋         | 21/30 [02:14<01:00,  6.71s/it]\u001B[A\r\n",
      "Evaluating:  73%|██████████████████████▋        | 22/30 [02:21<00:53,  6.73s/it]\u001B[A\r\n",
      "Evaluating:  77%|███████████████████████▊       | 23/30 [02:28<00:48,  6.90s/it]\u001B[A\r\n",
      "Evaluating:  80%|████████████████████████▊      | 24/30 [02:36<00:42,  7.14s/it]\u001B[A\r\n",
      "Evaluating:  83%|█████████████████████████▊     | 25/30 [02:44<00:36,  7.35s/it]\u001B[A\r\n",
      "Evaluating:  87%|██████████████████████████▊    | 26/30 [02:52<00:30,  7.64s/it]\u001B[A\r\n",
      "Evaluating:  90%|███████████████████████████▉   | 27/30 [03:01<00:23,  7.91s/it]\u001B[A\r\n",
      "Evaluating:  93%|████████████████████████████▉  | 28/30 [03:08<00:15,  7.71s/it]\u001B[A\r\n",
      "Evaluating:  97%|█████████████████████████████▉ | 29/30 [03:15<00:07,  7.41s/it]\u001B[A\r\n",
      "Evaluating: 100%|███████████████████████████████| 30/30 [03:22<00:00,  6.74s/it]\u001B[A\r\n",
      "Testing hyperparameters: 100%|███████████████████| 1/1 [03:22<00:00, 202.24s/it]\r\n",
      "\r\n",
      "Hyperparameter Evaluation Results:\r\n",
      "   n_users  n_items  n_factors  n_recommendations  user_hr  user_ndcg  user_mrr  item_hr  item_ndcg  item_mrr  svd_hr  svd_ndcg  svd_mrr\r\n",
      "0       10       10         50                 10   0.1133     0.1398    0.3943     0.02     0.0208    0.0648    0.06    0.0614   0.1316\r\n",
      "\r\n",
      "Best hyperparameters by method:\r\n",
      "User-based CF: {'n_users': 10.0, 'n_items': 10.0, 'n_factors': 50.0, 'n_recommendations': 10.0}\r\n",
      "Item-based CF: {'n_users': 10.0, 'n_items': 10.0, 'n_factors': 50.0, 'n_recommendations': 10.0}\r\n",
      "SVD-based CF: {'n_users': 10.0, 'n_items': 10.0, 'n_factors': 50.0, 'n_recommendations': 10.0}\r\n"
     ]
    }
   ],
   "execution_count": 2
  },
  {
   "cell_type": "markdown",
   "id": "6f252b696de87f64",
   "metadata": {},
   "source": [
    "# 2. ml32m.py - UserCF/SVD\n",
    "- not suitable for itemCF because the movie items are too many（around than 300 thousand）"
   ]
  },
  {
   "metadata": {
    "ExecuteTime": {
     "end_time": "2025-04-16T14:11:05.137402Z",
     "start_time": "2025-04-16T14:06:09.439511Z"
    }
   },
   "cell_type": "code",
   "source": "!python ml32m.py",
   "id": "890d8f220dff8cee",
   "outputs": [
    {
     "name": "stdout",
     "output_type": "stream",
     "text": [
      "Loading ML-32M dataset...\r\n",
      "Using a sample of 5000 users for analysis...\r\n",
      "Preprocessing data...\r\n",
      "\r\n",
      "Generating recommendations for user 28 with different configurations...\r\n",
      "\r\n",
      "Config: n_users=10, n_items=10, n_factors=50, n_recommendations=10\r\n",
      "\r\n",
      "User-based (n_users=10) recommendations for user 28:\r\n",
      "Movie ID: 1258, Score: 26.80, Title: Shining, The (1980)\r\n",
      "Movie ID: 1219, Score: 26.22, Title: Psycho (1960)\r\n",
      "Movie ID: 1183, Score: 24.75, Title: English Patient, The (1996)\r\n",
      "Movie ID: 7022, Score: 24.13, Title: Battle Royale (Batoru rowaiaru) (2000)\r\n",
      "Movie ID: 2739, Score: 23.83, Title: Color Purple, The (1985)\r\n",
      "Movie ID: 3176, Score: 23.55, Title: Talented Mr. Ripley, The (1999)\r\n",
      "Movie ID: 3246, Score: 23.25, Title: Malcolm X (1992)\r\n",
      "Movie ID: 1960, Score: 23.25, Title: Last Emperor, The (1987)\r\n",
      "Movie ID: 6979, Score: 23.22, Title: WarGames (1983)\r\n",
      "Movie ID: 1230, Score: 23.00, Title: Annie Hall (1977)\r\n",
      "\r\n",
      "SVD-based (n_factors=50) recommendations for user 28:\r\n",
      "Movie ID: 2336, Score: 3.82, Title: Elizabeth (1998)\r\n",
      "Movie ID: 2108, Score: 3.77, Title: L.A. Story (1991)\r\n",
      "Movie ID: 2391, Score: 3.76, Title: Simple Plan, A (1998)\r\n",
      "Movie ID: 2324, Score: 3.75, Title: Life Is Beautiful (La Vita è bella) (1997)\r\n",
      "Movie ID: 1258, Score: 3.59, Title: Shining, The (1980)\r\n",
      "Movie ID: 70, Score: 3.55, Title: From Dusk Till Dawn (1996)\r\n",
      "Movie ID: 2687, Score: 3.52, Title: Tarzan (1999)\r\n",
      "Movie ID: 6979, Score: 3.51, Title: WarGames (1983)\r\n",
      "Movie ID: 1183, Score: 3.51, Title: English Patient, The (1996)\r\n",
      "Movie ID: 80489, Score: 3.45, Title: Town, The (2010)\r\n",
      "\r\n",
      "Evaluating recommendation methods...\r\n",
      "Evaluating recommendations with n_users=10, n_items=10, n_recommendations=10\r\n",
      "Evaluating: 100%|███████████████████████████████| 50/50 [04:41<00:00,  5.63s/it]\r\n",
      "\r\n",
      "===== Hyperparameter Comparison Results =====\r\n",
      "Config                                             UserCF HR  UserCF NDCG UserCF MRR SVD HR     SVD NDCG   SVD MRR   \r\n",
      "--------------------------------------------------------------------------------------------------------------\r\n",
      "n_users=10, n_items=10, n_factors=50, n_recommendations=10 0.0319     0.7988     0.9067     0.0372     0.9299     0.9900    \r\n",
      "\r\n",
      "Results as DataFrame:\r\n",
      "                                              config  ...  svd_mrr\r\n",
      "0  n_users=10, n_items=10, n_factors=50, n_recomm...  ...     0.99\r\n",
      "\r\n",
      "[1 rows x 7 columns]\r\n"
     ]
    }
   ],
   "execution_count": 5
  }
 ],
 "metadata": {
  "kernelspec": {
   "display_name": "Python 3",
   "language": "python",
   "name": "python3"
  },
  "language_info": {
   "codemirror_mode": {
    "name": "ipython",
    "version": 2
   },
   "file_extension": ".py",
   "mimetype": "text/x-python",
   "name": "python",
   "nbconvert_exporter": "python",
   "pygments_lexer": "ipython2",
   "version": "2.7.6"
  }
 },
 "nbformat": 4,
 "nbformat_minor": 5
}
