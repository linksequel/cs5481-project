{
 "cells": [
  {
   "cell_type": "code",
   "id": "initial_id",
   "metadata": {
    "collapsed": true,
    "ExecuteTime": {
     "end_time": "2025-04-11T05:28:40.727691Z",
     "start_time": "2025-04-11T05:28:40.698817Z"
    }
   },
   "source": [
    "import pandas as pd\n",
    "\n",
    "# 创建一个简单的用户-物品DataFrame\n",
    "data = {\n",
    "    'userID': [1, 1, 1, 1, 2, 2, 2, 3, 3, 3, 4, 4],\n",
    "    'itemID': ['A', 'B', 'C', 'D', 'A', 'C', 'E', 'B', 'C', 'D', 'C', 'D'],\n",
    "    'rating': [5, 3, 0, 1, 4, 0, 2, 1, 0, 5, 5, 4]\n",
    "}\n",
    "\n",
    "df = pd.DataFrame(data)\n",
    "\n",
    "# 创建用户-物品矩阵\n",
    "user_item_matrix = df.pivot(index='userID', columns='itemID', values='rating').fillna(0)\n",
    "\n",
    "# 计算行向量之间的皮尔逊相关系数\n",
    "pearson_corr = user_item_matrix.T.corr(method='pearson')\n",
    "\n",
    "print(\"用户-物品矩阵行向量之间的皮尔逊相关系数:\")\n",
    "print(pearson_corr)"
   ],
   "outputs": [
    {
     "name": "stdout",
     "output_type": "stream",
     "text": [
      "用户-物品矩阵行向量之间的皮尔逊相关系数:\n",
      "userID         1         2         3         4\n",
      "userID                                        \n",
      "1       1.000000  0.593067 -0.148936 -0.565009\n",
      "2       0.593067  1.000000 -0.464140 -0.606168\n",
      "3      -0.148936 -0.464140  1.000000  0.426072\n",
      "4      -0.565009 -0.606168  0.426072  1.000000\n"
     ]
    }
   ],
   "execution_count": 11
  },
  {
   "metadata": {},
   "cell_type": "markdown",
   "source": [
    "# 皮尔逊计算公式\n",
    "皮尔逊相关系数与余弦相似度的计算公式如下：\n",
    "\n",
    "$\n",
    "\\mathrm{pearson}(u, v)=\\frac{\\sum_{i \\in I}(r_{ui}-\\bar{r}_{u})(r_{vi}-\\bar{r}_{v})}{\\sqrt{\\sum_{i \\in I}(r_{ui}-\\bar{r}_{u})^2}\\sqrt{\\sum_{i \\in I}(r_{vi}-\\bar{r}_{v})^2}}\n",
    "$\n",
    "\n",
    "其中：\n",
    "- $(r_{ui}, r_{vi})$ 分别表示用户 \\(u\\) 和用户 \\(v\\) 对物品 \\(i\\) 是否有交互（或具体评分值）；\n",
    "- $(\\bar{r}_{u}, \\bar{r}_{v})$ 分别表示用户 \\(u\\) 和用户 \\(v\\) 交互的所有物品交互数量或者评分的平均值。"
   ],
   "id": "a4ce8d5a560d041"
  },
  {
   "metadata": {
    "ExecuteTime": {
     "end_time": "2025-04-11T05:49:25.931738Z",
     "start_time": "2025-04-11T05:49:25.923118Z"
    }
   },
   "cell_type": "code",
   "source": [
    "import numpy as np\n",
    "import pandas as pd\n",
    "\n",
    "def calculate_pearson_corr(row1, row2):\n",
    "    \"\"\"\n",
    "    计算两个行向量之间的皮尔逊相关系数\n",
    "\n",
    "    参数:\n",
    "    row1 (pd.Series): 第一个行向量\n",
    "    row2 (pd.Series): 第二个行向量\n",
    "\n",
    "    返回:\n",
    "    float: 皮尔逊相关系数\n",
    "    \"\"\"\n",
    "    # 计算均值\n",
    "    mean_row1 = np.mean(row1)\n",
    "    mean_row2 = np.mean(row2)\n",
    "\n",
    "    # 计算分子\n",
    "    numerator = np.sum((row1 - mean_row1) * (row2 - mean_row2))\n",
    "\n",
    "    # 计算分母\n",
    "    denominator = np.sqrt(np.sum((row1 - mean_row1) ** 2)) * np.sqrt(np.sum((row2 - mean_row2) ** 2))\n",
    "\n",
    "    # 计算皮尔逊相关系数\n",
    "    pearson_corr = numerator / denominator\n",
    "\n",
    "    return pearson_corr\n",
    "\n",
    "\n",
    "# 单元测试\n",
    "def test_calculate_pearson_corr():\n",
    "    \"\"\"\n",
    "    测试 calculate_pearson_corr 方法\n",
    "    \"\"\"\n",
    "    # 示例数据\n",
    "    data = {\n",
    "        'userID': [1, 3],\n",
    "        'itemID': ['A', 'B'],\n",
    "        'rating': [5, 2]\n",
    "    }\n",
    "\n",
    "    # 创建用户-物品矩阵\n",
    "    df = pd.DataFrame(data)\n",
    "\n",
    "    # 创建用户-物品矩阵\n",
    "    user_item_matrix = df.pivot(index='userID', columns='itemID', values='rating').fillna(0)\n",
    "\n",
    "    # 计算 DataFrame 中两个行向量之间的皮尔逊相关系数\n",
    "    row1 = user_item_matrix.iloc[0]\n",
    "    row2 = user_item_matrix.iloc[1]\n",
    "    pearson_corr = calculate_pearson_corr(row1, row2)\n",
    "    print(pearson_corr)\n",
    "\n",
    "    # 预期结果\n",
    "    expected_corr = np.corrcoef(row1, row2)[0, 1]\n",
    "    print(expected_corr)\n",
    "    assert np.isclose(pearson_corr, expected_corr), f\"Expected {expected_corr}, but got {pearson_corr}\"\n",
    "\n",
    "# 运行单元测试\n",
    "test_calculate_pearson_corr()\n",
    "print(\"单元测试通过\")"
   ],
   "id": "f582a41a54899243",
   "outputs": [
    {
     "name": "stdout",
     "output_type": "stream",
     "text": [
      "-0.9999999999999998\n",
      "-0.9999999999999999\n",
      "单元测试通过\n"
     ]
    }
   ],
   "execution_count": 43
  },
  {
   "metadata": {
    "ExecuteTime": {
     "end_time": "2025-04-11T14:12:03.994388Z",
     "start_time": "2025-04-11T14:12:03.932356Z"
    }
   },
   "cell_type": "code",
   "source": [
    "import pandas as pd\n",
    "import numpy as np\n",
    "from sklearn.metrics.pairwise import cosine_similarity\n",
    "\n",
    "# 定义向量\n",
    "v1 = np.array([5, 3, 4, 3, 1])\n",
    "v3 = np.array([3, 1, 3, 3, 5])\n",
    "\n",
    "# 创建DataFrame\n",
    "df = pd.DataFrame([v1, v3], index=['v1', 'v3'])\n",
    "\n",
    "# 计算余弦相似度\n",
    "cosine_sim = cosine_similarity(df)\n",
    "\n",
    "# 将结果转换为DataFrame\n",
    "cosine_sim_df = pd.DataFrame(cosine_sim, index=df.index, columns=df.index)\n",
    "pearson  = np.corrcoef(df)\n",
    "\n",
    "print(\"余弦相似度矩阵:\")\n",
    "print(cosine_sim_df)\n",
    "\n",
    "print(\"pearson相似度\")\n",
    "print(pearson)"
   ],
   "id": "cfb58acb954a481a",
   "outputs": [
    {
     "name": "stdout",
     "output_type": "stream",
     "text": [
      "余弦相似度矩阵:\n",
      "         v1       v3\n",
      "v1  1.00000  0.78026\n",
      "v3  0.78026  1.00000\n",
      "pearson相似度\n",
      "[[ 1.         -0.47673129]\n",
      " [-0.47673129  1.        ]]\n"
     ]
    }
   ],
   "execution_count": 45
  }
 ],
 "metadata": {
  "kernelspec": {
   "display_name": "Python 3",
   "language": "python",
   "name": "python3"
  },
  "language_info": {
   "codemirror_mode": {
    "name": "ipython",
    "version": 2
   },
   "file_extension": ".py",
   "mimetype": "text/x-python",
   "name": "python",
   "nbconvert_exporter": "python",
   "pygments_lexer": "ipython2",
   "version": "2.7.6"
  }
 },
 "nbformat": 4,
 "nbformat_minor": 5
}
