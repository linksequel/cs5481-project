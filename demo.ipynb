{
 "cells": [
  {
   "cell_type": "markdown",
   "metadata": {},
   "source": [
    "\n",
    "对于两个变量\\(X\\)和\\(Y\\)，它们的皮尔逊相关系数\\(r_{XY}\\)计算公式为：\n",
    "\n",
    "$$\n",
    "r_{XY}=\\frac{\\sum_{i = 1}^{n}(x_{i}-\\bar{x})(y_{i}-\\bar{y})}{\\sqrt{\\sum_{i = 1}^{n}(x_{i}-\\bar{x})^{2}}\\sqrt{\\sum_{i = 1}^{n}(y_{i}-\\bar{y})^{2}}}\n",
    "$$\n",
    "\n",
    "其中：\n",
    "- \\(n\\)是样本数量；\n",
    "- $x_{i}$是变量\\(X\\)的第\\(i\\)个观测值；\n",
    "- $y_{i}$是变量\\(Y\\)的第\\(i\\)个观测值；\n",
    "- $\\bar{x}$是变量\\(X\\)的均值，$$\\bar{x}=\\frac{1}{n}\\sum_{i = 1}^{n}x_{i}$$\n",
    "- $\\bar{y}$是变量\\(Y\\)的均值，$$\\bar{y}=\\frac{1}{n}\\sum_{i = 1}^{n}y_{i}$$"
   ]
  },
  {
   "cell_type": "code",
   "metadata": {
    "ExecuteTime": {
     "end_time": "2025-04-12T15:13:21.829527Z",
     "start_time": "2025-04-12T15:13:21.824206Z"
    }
   },
   "source": [
    "# dependencies\n",
    "import numpy as np\n",
    "import pandas as pd\n",
    "from pprint import pprint\n",
    "from scipy.sparse import csr_matrix\n",
    "from sklearn.metrics.pairwise import cosine_similarity\n",
    "import os\n",
    "\n",
    "from torchvision.models import vgg13\n",
    "# path of datasets\n",
    "# /Users/sequel/linkcodes/datasets\n",
    "# hetrec2011/lastfm\n",
    "# movide32"
   ],
   "outputs": [],
   "execution_count": 159
  },
  {
   "cell_type": "markdown",
   "metadata": {},
   "source": [
    "“hetrec2011-lastfm-2k”数据集包含了来自Last.fm在线音乐系统中2K用户的社交网络、标签和音乐艺术家收听信息，其涉及的文件及其用途如下：\n",
    "\n",
    "1. **artists.dat**：记录用户收听和标记的音乐艺术家相关信息。每行数据包含艺术家的ID、名称、Last.fm上的网址以及图片网址，如“707 Metallica http://www.last.fm/music/Metallica http://userserve-ak.last.fm/serve/252/7560709.jpg” ，为研究艺术家的基本信息提供了数据支持。\n",
    "2. **tags.dat**：存放数据集中可用的标签信息。每行数据由标签ID和标签值组成，例如“1 metal”，用于标记艺术家，帮助对艺术家进行分类和特征描述。\n",
    "3. **user_artists.dat**：记录每个用户收听的艺术家信息，并给出每个用户与艺术家组合的收听次数。数据格式为“userID artistID weight”，其中weight代表收听次数，如“2 51 13883” ，可用于分析用户的音乐偏好和收听行为。\n",
    "4. **user_taggedartists.dat**：记录每个用户对艺术家的标签分配情况，还包含标签分配的日期信息。数据格式为“userID artistID tagID day month year”，如“2 52 13 1 4 2009” ，通过这些数据可以了解用户对不同艺术家的个性化标签标注时间，分析用户标签行为的时间规律。\n",
    "5. **user_taggedartists-timestamps.dat**：同样记录用户对艺术家的标签分配，但提供的是标签分配的时间戳信息。数据格式为“userID artistID tagID timestamp”，如“2 52 13 1238536800000” ，时间戳能更精确地反映标签行为发生的时间，对于研究用户行为的时间序列特征更有价值。\n",
    "6. **user_friends.dat**：记录数据库中用户之间的朋友关系。每行数据包含两个用户ID，如“2 275”，表示用户2和用户275是朋友关系，可用于研究用户的社交网络结构和社交关系对音乐偏好的影响。"
   ]
  },
  {
   "cell_type": "code",
   "metadata": {
    "ExecuteTime": {
     "end_time": "2025-04-12T15:13:21.854105Z",
     "start_time": "2025-04-12T15:13:21.846998Z"
    }
   },
   "source": [
    "def load_dataset(path=\"./hetrec2011-lastfm-2k\"):\n",
    "    # Load user-artist interactions\n",
    "    user_artists = pd.read_csv(f\"{path}/user_artists.dat\", sep='\\t')\n",
    "    \n",
    "    # Load artists data\n",
    "    artists = pd.read_csv(f\"{path}/artists.dat\", sep='\\t')\n",
    "    \n",
    "    return user_artists, artists"
   ],
   "outputs": [],
   "execution_count": 160
  },
  {
   "metadata": {
    "ExecuteTime": {
     "end_time": "2025-04-12T15:13:21.918814Z",
     "start_time": "2025-04-12T15:13:21.873982Z"
    }
   },
   "cell_type": "code",
   "source": [
    "import pandas as pd\n",
    "import numpy as np\n",
    "from sklearn.metrics.pairwise import cosine_similarity\n",
    "\n",
    "\n",
    "\n",
    "# 创建一个简单的用户-物品DataFrame\n",
    "data = {\n",
    "    'userID': [1, 1, 1, 1, 2, 2, 2, 3, 3, 3, 4, 4],\n",
    "    'itemID': ['A', 'B', 'C', 'D', 'A', 'C', 'E', 'B', 'C', 'D', 'C', 'D'],\n",
    "    'rating': [5, 3, 0, 1, 4, 0, 2, 1, 0, 5, 5, 4]\n",
    "}\n",
    "\n",
    "df = pd.DataFrame(data)\n",
    "\n",
    "# 创建用户-物品矩阵\n",
    "user_item_matrix = df.pivot(index='userID', columns='itemID', values='rating').fillna(0)\n",
    "\n",
    "print(\"用户-物品矩阵:\")\n",
    "print(user_item_matrix)\n",
    "\n",
    "# 计算余弦相似度\n",
    "similarity_matrix = pd.DataFrame(\n",
    "    cosine_similarity(user_item_matrix),\n",
    "    index=user_item_matrix.index,\n",
    "    columns=user_item_matrix.index\n",
    ")\n",
    "\n",
    "print(\"\\n余弦相似度矩阵:\")\n",
    "print(similarity_matrix)\n",
    "\n",
    "# 为了更好的可读性，我们可以将结果四舍五入到小数点后三位\n",
    "rounded_similarity = similarity_matrix.round(3)\n",
    "print(\"\\n四舍五入后的余弦相似度矩阵:\")\n",
    "print(rounded_similarity)"
   ],
   "outputs": [
    {
     "name": "stdout",
     "output_type": "stream",
     "text": [
      "用户-物品矩阵:\n",
      "itemID       A       B       C       D       E\n",
      "userID                                        \n",
      "1      5.00000 3.00000 0.00000 1.00000 0.00000\n",
      "2      4.00000 0.00000 0.00000 0.00000 2.00000\n",
      "3      0.00000 1.00000 0.00000 5.00000 0.00000\n",
      "4      0.00000 0.00000 5.00000 4.00000 0.00000\n",
      "\n",
      "余弦相似度矩阵:\n",
      "userID       1       2       3       4\n",
      "userID                                \n",
      "1      1.00000 0.75593 0.26520 0.10559\n",
      "2      0.75593 1.00000 0.00000 0.00000\n",
      "3      0.26520 0.00000 1.00000 0.61256\n",
      "4      0.10559 0.00000 0.61256 1.00000\n",
      "\n",
      "四舍五入后的余弦相似度矩阵:\n",
      "userID       1       2       3       4\n",
      "userID                                \n",
      "1      1.00000 0.75600 0.26500 0.10600\n",
      "2      0.75600 1.00000 0.00000 0.00000\n",
      "3      0.26500 0.00000 1.00000 0.61300\n",
      "4      0.10600 0.00000 0.61300 1.00000\n"
     ]
    }
   ],
   "execution_count": 161
  },
  {
   "metadata": {},
   "cell_type": "markdown",
   "source": "# 手动计算余弦相似度VS用封装好的方法计算"
  },
  {
   "metadata": {
    "ExecuteTime": {
     "end_time": "2025-04-12T15:13:21.942202Z",
     "start_time": "2025-04-12T15:13:21.933765Z"
    }
   },
   "cell_type": "code",
   "source": [
    "v1 = np.array([5, 3, 4, 3, 1])\n",
    "v3 = np.array([3, 1, 3, 3, 5])\n",
    "\n",
    "# 手动计算余弦相似度\n",
    "dot = np.dot(v1, v3)\n",
    "norm = np.linalg.norm(v1) * np.linalg.norm(v3)\n",
    "cosine_sim_manual = dot / norm\n",
    "\n",
    "print(\"手动计算的余弦相似度:\", cosine_sim_manual)\n",
    "\n",
    "# 使用 cosine_similarity 函数\n",
    "# 注意：我们需要将向量重塑为 2D 数组\n",
    "v1_reshaped = v1.reshape(1, -1)\n",
    "v3_reshaped = v3.reshape(1, -1)\n",
    "cosine_sim_func = cosine_similarity(v1_reshaped, v3_reshaped)\n",
    "np_consine = np.corrcoef(v1, v3)[0][1]\n",
    "print(\"使用np计算皮尔逊\", np_consine)\n",
    "print(\"工具计算余弦：\", cosine_sim_func)\n",
    "print(\"使用 cosine_similarity 函数计算的余弦相似度:\", cosine_sim_func[0][0])\n",
    "\n",
    "# 验证两种方法的结果是否相同\n",
    "print(\"两种方法的结果是否相同:\", np.isclose(cosine_sim_manual, cosine_sim_func[0][0]))\n"
   ],
   "outputs": [
    {
     "name": "stdout",
     "output_type": "stream",
     "text": [
      "手动计算的余弦相似度: 0.7802595923450996\n",
      "使用np计算皮尔逊 -0.47673129462279606\n",
      "工具计算余弦： [[0.78025959]]\n",
      "使用 cosine_similarity 函数计算的余弦相似度: 0.7802595923450996\n",
      "两种方法的结果是否相同: True\n"
     ]
    }
   ],
   "execution_count": 162
  },
  {
   "metadata": {},
   "cell_type": "markdown",
   "source": [
    "# 手动计算皮尔逊VS工具计算\n",
    "余弦相似度在度量文本相似度、用户相似度、物品相似度的时候都较为常用。\n",
    "\n",
    "皮尔逊相关度，实际上也是一种余弦相似度。不过先对向量做了中心化，范围在[-1, 1]\n",
    "- 相关度量的是两个变量的变化趋势是否一致，两个随机变量是不是同增同减。\n",
    "- 不适合用作计算布尔值向量（0-1）之间相关度。"
   ]
  },
  {
   "metadata": {
    "ExecuteTime": {
     "end_time": "2025-04-12T15:13:21.993384Z",
     "start_time": "2025-04-12T15:13:21.980360Z"
    }
   },
   "cell_type": "code",
   "source": [
    "from sklearn.metrics.pairwise import cosine_similarity\n",
    "from scipy.stats import pearsonr\n",
    "i = [483,133]\n",
    "j = [216,4]\n",
    "\n",
    "matrix = np.array([[1, 0, 0, 0],\n",
    "                   [1, 0, 1, 0],\n",
    "                   [5,4,3,2]])\n",
    "\n",
    "# 计算皮尔逊相关系数\n",
    "pearson_corr = np.corrcoef(matrix)\n",
    "\n",
    "# 手动计算皮尔逊相关系数\n",
    "n = len(i)\n",
    "# 计算均值\n",
    "mean_i = np.mean(i)\n",
    "mean_j = np.mean(j)\n",
    "# 计算分子\n",
    "numerator = np.sum((np.array(i) - mean_i) * (np.array(j) - mean_j))\n",
    "# 计算分母\n",
    "denominator = np.sqrt(np.sum((np.array(i) - mean_i) ** 2)) * np.sqrt(np.sum((np.array(j) - mean_j) ** 2))\n",
    "# 计算皮尔逊相关系数\n",
    "manual_pearson = numerator / denominator\n",
    "print(\"手动计算皮尔逊相关系数：\", manual_pearson)\n",
    "\n",
    "# 工具计算\n",
    "cos = cosine_similarity([i, j])\n",
    "pear = pearsonr(i, j)\n",
    "anotherPear = np.corrcoef(i, j)[0][1]\n",
    "pearson_corr = np.corrcoef(matrix)\n",
    "print(\"矩阵的皮尔森系数\")\n",
    "print(pearson_corr)\n",
    "print(\"另一种方法计算:\", anotherPear)\n",
    "print(\"余弦相似度:\\n\", cos)\n",
    "print(\"工具计算皮尔逊\", pear)"
   ],
   "outputs": [
    {
     "name": "stdout",
     "output_type": "stream",
     "text": [
      "手动计算皮尔逊相关系数： 1.0\n",
      "矩阵的皮尔森系数\n",
      "[[1.         0.57735027 0.77459667]\n",
      " [0.57735027 1.         0.4472136 ]\n",
      " [0.77459667 0.4472136  1.        ]]\n",
      "另一种方法计算: 1.0\n",
      "余弦相似度:\n",
      " [[1.         0.96886623]\n",
      " [0.96886623 1.        ]]\n",
      "工具计算皮尔逊 PearsonRResult(statistic=1.0, pvalue=1.0)\n"
     ]
    }
   ],
   "execution_count": 163
  },
  {
   "metadata": {},
   "cell_type": "markdown",
   "source": [
    "# Item-CF\n",
    "## 上手例子"
   ]
  },
  {
   "cell_type": "code",
   "metadata": {
    "ExecuteTime": {
     "end_time": "2025-04-12T15:13:22.018713Z",
     "start_time": "2025-04-12T15:13:22.006554Z"
    }
   },
   "source": [
    "# 1. 建立数据\n",
    "def loadData():\n",
    "    items = {'A': {'Alice': 5.0, 'user1': 3.0, 'user2': 4.0, 'user3': 3.0, 'user4': 1.0},\n",
    "             'B': {'Alice': 3.0, 'user1': 1.0, 'user2': 3.0, 'user3': 3.0, 'user4': 5.0},\n",
    "             'C': {'Alice': 4.0, 'user1': 2.0, 'user2': 4.0, 'user3': 1.0, 'user4': 5.0},\n",
    "             'D': {'Alice': 4.0, 'user1': 3.0, 'user2': 3.0, 'user3': 5.0, 'user4': 2.0},\n",
    "             'E': {'user1': 3.0, 'user2': 5.0, 'user3': 4.0, 'user4': 1.0}\n",
    "             }\n",
    "    return items\n",
    "\n",
    "item_data = loadData()\n",
    "\n",
    "\"\"\"\n",
    " 相似矩阵\n",
    "     A    B    C    D    E\n",
    "A  1.0  0.0  0.0  0.0  0.0\n",
    "B  0.0  1.0  0.0  0.0  0.0\n",
    "C  0.0  0.0  1.0  0.0  0.0\n",
    "D  0.0  0.0  0.0  1.0  0.0\n",
    "E  0.0  0.0  0.0  0.0  1.0\n",
    "\n",
    "ABCDE是文档中的物品\n",
    "\"\"\"\n",
    "# 2. 建立物品间的相似度矩阵，行与行之间的相似度，第一行与第二行的相似度=sim[1][2] or sim[2][1]\n",
    "similarity_matrix = pd.DataFrame(\n",
    "    np.identity(len(item_data)),\n",
    "    index=item_data.keys(),\n",
    "    columns=item_data.keys(),\n",
    ")\n",
    "\n",
    "# 遍历每条物品-用户评分数据\n",
    "for i1, name2rate1 in item_data.items():\n",
    "    for i2, name2rate2 in item_data.items():\n",
    "        if i1 == i2:\n",
    "            continue\n",
    "        vec1, vec2 = [], []\n",
    "        for user, rating1 in name2rate1.items():\n",
    "            rating2 = name2rate2.get(user, -1)\n",
    "            if rating2 == -1:\n",
    "                continue\n",
    "            vec1.append(rating1)\n",
    "            vec2.append(rating2)\n",
    "        # print(vec1, vec2)\n",
    "        similarity_matrix.loc[i2, i1] = np.corrcoef(vec1, vec2)[0][1]\n",
    "\n",
    "user_item_mydf = pd.DataFrame(item_data).fillna(0)\n",
    "item_similarity_matrix = cosine_similarity(user_item_mydf.T)\n",
    "# 将相似度矩阵转换为DataFrame\n",
    "direct_similarity_df = pd.DataFrame(item_similarity_matrix, index=user_item_mydf.columns, columns=user_item_mydf.columns)\n",
    "print(\"未平等计算的皮尔逊:\")\n",
    "print(direct_similarity_df)\n",
    "print(\"平等计算的皮尔逊:\")\n",
    "print(similarity_matrix)\n",
    "similarity_matrix = direct_similarity_df\n",
    "# ----------\n",
    "#x loc : 先取行再取列\n",
    "# similarity_matrix.loc['A', 'B'] = -1\n",
    "# print(similarity_matrix)\n",
    "# print(\"这样取得是行向量\\n\", similarity_matrix.loc['B'])\n",
    "# print(\"这样取得是列向量\\n\", similarity_matrix['B'])"
   ],
   "outputs": [
    {
     "name": "stdout",
     "output_type": "stream",
     "text": [
      "未平等计算的皮尔逊:\n",
      "        A       B       C       D       E\n",
      "A 1.00000 0.78026 0.81978 0.94337 0.75926\n",
      "B 0.78026 1.00000 0.94202 0.84798 0.67320\n",
      "C 0.81978 0.94202 1.00000 0.78403 0.62243\n",
      "D 0.94337 0.84798 0.78403 1.00000 0.81153\n",
      "E 0.75926 0.67320 0.62243 0.81153 1.00000\n",
      "平等计算的皮尔逊:\n",
      "         A        B        C        D        E\n",
      "A  1.00000 -0.47673 -0.12309  0.53218  0.96946\n",
      "B -0.47673  1.00000  0.64550 -0.31009 -0.47809\n",
      "C -0.12309  0.64550  1.00000 -0.72058 -0.42762\n",
      "D  0.53218 -0.31009 -0.72058  1.00000  0.58168\n",
      "E  0.96946 -0.47809 -0.42762  0.58168  1.00000\n"
     ]
    }
   ],
   "execution_count": 164
  },
  {
   "metadata": {
    "ExecuteTime": {
     "end_time": "2025-04-12T15:13:22.046417Z",
     "start_time": "2025-04-12T15:13:22.032182Z"
    }
   },
   "cell_type": "code",
   "source": [
    "# 平等计算 df\n",
    "import numpy as np\n",
    "import pandas as pd\n",
    "\n",
    "# 1. 建立数据\n",
    "def loadData():\n",
    "    items = {'A': {'Alice': 5.0, 'user1': 3.0, 'user2': 4.0, 'user3': 3.0, 'user4': 1.0},\n",
    "             'B': {'Alice': 3.0, 'user1': 1.0, 'user2': 3.0, 'user3': 3.0, 'user4': 5.0},\n",
    "             'C': {'Alice': 4.0, 'user1': 2.0, 'user2': 4.0, 'user3': 1.0, 'user4': 5.0},\n",
    "             'D': {'Alice': 4.0, 'user1': 3.0, 'user2': 3.0, 'user3': 5.0, 'user4': 2.0},\n",
    "             'E': {'user1': 3.0, 'user2': 5.0, 'user3': 4.0, 'user4': 1.0}\n",
    "             }\n",
    "    return items\n",
    "\n",
    "item_data = loadData()\n",
    "\n",
    "# 将 item_data 转换为 DataFrame，并转置\n",
    "item_df = pd.DataFrame(item_data).fillna(0).T\n",
    "\n",
    "# 2. 建立物品间的相似度矩阵\n",
    "similarity_matrix = pd.DataFrame(\n",
    "    np.identity(len(item_df.index)),\n",
    "    index=item_df.index,\n",
    "    columns=item_df.index,\n",
    ")\n",
    "\n",
    "# 遍历每对物品，计算相似度\n",
    "for i1 in item_df.index:\n",
    "    for i2 in item_df.index:\n",
    "        if i1 == i2:\n",
    "            continue\n",
    "        # 选择两个物品的评分，并过滤掉任意一个为0的评分\n",
    "        ratings = item_df.loc[[i1, i2]]\n",
    "        ratings = ratings.loc[:, (ratings.loc[i1] != 0) & (ratings.loc[i2] != 0)]\n",
    "\n",
    "        # 如果没有共同的非零评分，跳过\n",
    "        if ratings.shape[1] == 0:\n",
    "            continue\n",
    "\n",
    "        # 计算皮尔逊相关系数\n",
    "        corr = np.corrcoef(ratings)[0][1]\n",
    "        similarity_matrix.loc[i2, i1] = corr\n",
    "\n",
    "print(\"物品间的相似度矩阵:\")\n",
    "print(similarity_matrix)"
   ],
   "outputs": [
    {
     "name": "stdout",
     "output_type": "stream",
     "text": [
      "物品间的相似度矩阵:\n",
      "         A        B        C        D        E\n",
      "A  1.00000 -0.47673 -0.12309  0.53218  0.96946\n",
      "B -0.47673  1.00000  0.64550 -0.31009 -0.47809\n",
      "C -0.12309  0.64550  1.00000 -0.72058 -0.42762\n",
      "D  0.53218 -0.31009 -0.72058  1.00000  0.58168\n",
      "E  0.96946 -0.47809 -0.42762  0.58168  1.00000\n"
     ]
    }
   ],
   "execution_count": 165
  },
  {
   "cell_type": "markdown",
   "metadata": {},
   "source": [
    "np.corrcoef(vec1, vec2)：\n",
    "\n",
    "计算两个向量 vec1 和 vec2 的皮尔逊相关系数（Pearson correlation coefficient）。\n",
    "- 皮尔逊相关系数衡量的是两个变量之间的线性相关性，取值范围为 [-1, 1]，其中：\n",
    "    - 1 表示完全正相关\n",
    "    - -1 表示完全负相关\n",
    "    - 0 表示无线性相关性"
   ]
  },
  {
   "cell_type": "code",
   "metadata": {
    "ExecuteTime": {
     "end_time": "2025-04-12T15:13:22.066861Z",
     "start_time": "2025-04-12T15:13:22.061515Z"
    }
   },
   "source": [
    "# 3. 从 Alice 购买过的物品中，选出与物品 E 最相似的 num 件物品\n",
    "target_user = 'Alice'\n",
    "target_item = 'E'\n",
    "num = 2\n",
    "\n",
    "sim_items = []\n",
    "print(similarity_matrix[target_item])\n",
    "# 降序、取indexABCDE这种g\n",
    "sim_items_list = similarity_matrix[target_item].sort_values(ascending=False).index.tolist()\n",
    "print(sim_items_list)\n",
    "for item in sim_items_list:\n",
    "    # 如果target_user对物品item评分过\n",
    "    if target_user in item_data[item]:\n",
    "        sim_items.append(item)\n",
    "    if len(sim_items) == num:\n",
    "        break\n",
    "print(f'与物品{target_item}最相似的{num}个物品为：{sim_items}')"
   ],
   "outputs": [
    {
     "name": "stdout",
     "output_type": "stream",
     "text": [
      "A    0.96946\n",
      "B   -0.47809\n",
      "C   -0.42762\n",
      "D    0.58168\n",
      "E    1.00000\n",
      "Name: E, dtype: float64\n",
      "['E', 'A', 'D', 'C', 'B']\n",
      "与物品E最相似的2个物品为：['A', 'D']\n"
     ]
    }
   ],
   "execution_count": 166
  },
  {
   "cell_type": "code",
   "metadata": {
    "ExecuteTime": {
     "end_time": "2025-04-12T15:13:22.085468Z",
     "start_time": "2025-04-12T15:13:22.080844Z"
    }
   },
   "source": [
    "# 4. 利用3的最近邻n个物品 预测用户 Alice 对物品 E 的评分\n",
    "print(list(item_data[target_item].values()))\n",
    "# 除掉alice外其他用户对物品E的评分均值\n",
    "target_user_mean_rating = np.mean(list(item_data[target_item].values()))\n",
    "weighted_scores = 0.\n",
    "corr_values_sum = 0.\n",
    "\n",
    "target_item = 'E'\n",
    "for item in sim_items:\n",
    "    # 当前item和物品E的相似度\n",
    "    corr_value = similarity_matrix[target_item][item]\n",
    "    # 所有用户对当前item的评分均值\n",
    "    user_mean_rating = np.mean(list(item_data[item].values()))\n",
    "    # 累加【item与targetitem的相似度 * targetuser对item的偏好度】 / 累加的（相似度）= targetuser对targetitem对偏好度\n",
    "    weighted_scores += corr_value * (item_data[item][target_user] - user_mean_rating)\n",
    "    corr_values_sum += corr_value\n",
    "\n",
    "target_item_pred = target_user_mean_rating + weighted_scores / corr_values_sum\n",
    "print(f'用户{target_user}对物品{target_item}的预测评分为：{target_item_pred}')"
   ],
   "outputs": [
    {
     "name": "stdout",
     "output_type": "stream",
     "text": [
      "[3.0, 5.0, 4.0, 1.0]\n",
      "用户Alice对物品E的预测评分为：4.6\n"
     ]
    }
   ],
   "execution_count": 167
  },
  {
   "cell_type": "markdown",
   "metadata": {},
   "source": [
    "# User-CF\n",
    "## 上手例子"
   ]
  },
  {
   "cell_type": "code",
   "metadata": {
    "ExecuteTime": {
     "end_time": "2025-04-12T15:13:22.105779Z",
     "start_time": "2025-04-12T15:13:22.098752Z"
    }
   },
   "source": [
    "def loadData():\n",
    "    users = {'Alice': {'A': 5, 'B': 3, 'C': 4, 'D': 4},\n",
    "             'user1': {'A': 3, 'B': 1, 'C': 2, 'D': 3, 'E': 3},\n",
    "             'user2': {'A': 4, 'B': 3, 'C': 4, 'D': 3, 'E': 5},\n",
    "             'user3': {'A': 3, 'B': 3, 'C': 1, 'D': 5, 'E': 4},\n",
    "             'user4': {'A': 1, 'B': 5, 'C': 5, 'D': 2, 'E': 1}\n",
    "             }\n",
    "    return users\n",
    "\n",
    "user_data = loadData()\n",
    "similarity_matrix = pd.DataFrame(\n",
    "    np.identity(len(user_data)),\n",
    "    index=user_data.keys(),\n",
    "    columns=user_data.keys(),\n",
    ")\n",
    "'''similarity_matrix \n",
    "       Alice  user1  user2  user3  user4\n",
    "Alice    1.0    0.0    0.0    0.0    0.0\n",
    "user1    0.0    1.0    0.0    0.0    0.0\n",
    "user2    0.0    0.0    1.0    0.0    0.0\n",
    "user3    0.0    0.0    0.0    1.0    0.0\n",
    "user4    0.0    0.0    0.0    0.0    1.0\n",
    "'''\n",
    "# 遍历每条用户-物品评分数据\n",
    "for u1, items1 in user_data.items():\n",
    "    for u2, items2 in user_data.items():\n",
    "        if u1 == u2:\n",
    "            continue\n",
    "        vec1, vec2 = [], []\n",
    "        for item, rating1 in items1.items():\n",
    "            rating2 = items2.get(item, -1)\n",
    "            if rating2 == -1:\n",
    "                continue\n",
    "            vec1.append(rating1)\n",
    "            vec2.append(rating2)\n",
    "        # 计算不同用户之间的皮尔逊相关系数\n",
    "        similarity_matrix.loc[u2, u1] = np.corrcoef(vec1, vec2)[0][1]\n",
    "print(similarity_matrix)"
   ],
   "outputs": [
    {
     "name": "stdout",
     "output_type": "stream",
     "text": [
      "         Alice    user1    user2    user3    user4\n",
      "Alice  1.00000  0.85280  0.70711  0.00000 -0.79212\n",
      "user1  0.85280  1.00000  0.46771  0.48996 -0.90015\n",
      "user2  0.70711  0.46771  1.00000 -0.16116 -0.46657\n",
      "user3  0.00000  0.48996 -0.16116  1.00000 -0.64150\n",
      "user4 -0.79212 -0.90015 -0.46657 -0.64150  1.00000\n"
     ]
    }
   ],
   "execution_count": 168
  },
  {
   "cell_type": "code",
   "metadata": {
    "ExecuteTime": {
     "end_time": "2025-04-12T15:13:22.127094Z",
     "start_time": "2025-04-12T15:13:22.119440Z"
    }
   },
   "source": [
    "target_user = 'Alice'\n",
    "num = 2\n",
    "# 由于最相似的用户为自己，去除本身\n",
    "copy = similarity_matrix.copy()\n",
    "sim_users = copy[target_user].sort_values(ascending=False)[1:num+1].index.tolist()\n",
    "print(f'与用户{target_user}最相似的{num}个用户为：{sim_users}')\n",
    "print(similarity_matrix)"
   ],
   "outputs": [
    {
     "name": "stdout",
     "output_type": "stream",
     "text": [
      "与用户Alice最相似的2个用户为：['user1', 'user2']\n",
      "         Alice    user1    user2    user3    user4\n",
      "Alice  1.00000  0.85280  0.70711  0.00000 -0.79212\n",
      "user1  0.85280  1.00000  0.46771  0.48996 -0.90015\n",
      "user2  0.70711  0.46771  1.00000 -0.16116 -0.46657\n",
      "user3  0.00000  0.48996 -0.16116  1.00000 -0.64150\n",
      "user4 -0.79212 -0.90015 -0.46657 -0.64150  1.00000\n"
     ]
    }
   ],
   "execution_count": 169
  },
  {
   "cell_type": "markdown",
   "metadata": {},
   "source": [
    "- itemCF：喜欢o1的人有可能也喜欢o2\n",
    "- userCF：u1喜欢的物品u2可能喜欢"
   ]
  },
  {
   "cell_type": "code",
   "metadata": {
    "ExecuteTime": {
     "end_time": "2025-04-12T15:13:22.156285Z",
     "start_time": "2025-04-12T15:13:22.150484Z"
    }
   },
   "source": [
    "weighted_scores = 0.\n",
    "corr_values_sum = 0.\n",
    "target_item = 'E'\n",
    "# 基于皮尔逊相关系数预测用户评分\n",
    "print(similarity_matrix)\n",
    "for user in sim_users:\n",
    "    corr_value = similarity_matrix.loc[target_user, user]\n",
    "    user_mean_rating = np.mean(list(user_data[user].values()))\n",
    "\n",
    "    weighted_scores += corr_value * (user_data[user][target_item] - user_mean_rating)\n",
    "    corr_values_sum += corr_value\n",
    "\n",
    "target_user_mean_rating = np.mean(list(user_data[target_user].values()))\n",
    "target_item_pred = target_user_mean_rating + weighted_scores / corr_values_sum\n",
    "print(f'用户{target_user}对物品{target_item}的预测评分为：{target_item_pred}')\n",
    "user_data[target_user][target_item] = target_item_pred\n",
    "pprint(user_data)"
   ],
   "outputs": [
    {
     "name": "stdout",
     "output_type": "stream",
     "text": [
      "         Alice    user1    user2    user3    user4\n",
      "Alice  1.00000  0.85280  0.70711  0.00000 -0.79212\n",
      "user1  0.85280  1.00000  0.46771  0.48996 -0.90015\n",
      "user2  0.70711  0.46771  1.00000 -0.16116 -0.46657\n",
      "user3  0.00000  0.48996 -0.16116  1.00000 -0.64150\n",
      "user4 -0.79212 -0.90015 -0.46657 -0.64150  1.00000\n",
      "用户Alice对物品E的预测评分为：4.871979899370592\n",
      "{'Alice': {'A': 5, 'B': 3, 'C': 4, 'D': 4, 'E': 4.871979899370592},\n",
      " 'user1': {'A': 3, 'B': 1, 'C': 2, 'D': 3, 'E': 3},\n",
      " 'user2': {'A': 4, 'B': 3, 'C': 4, 'D': 3, 'E': 5},\n",
      " 'user3': {'A': 3, 'B': 3, 'C': 1, 'D': 5, 'E': 4},\n",
      " 'user4': {'A': 1, 'B': 5, 'C': 5, 'D': 2, 'E': 1}}\n"
     ]
    }
   ],
   "execution_count": 170
  },
  {
   "metadata": {
    "ExecuteTime": {
     "end_time": "2025-04-13T14:19:41.171871Z",
     "start_time": "2025-04-13T14:19:41.155466Z"
    }
   },
   "cell_type": "code",
   "source": [
    "import random\n",
    "import math\n",
    "\n",
    "\n",
    "class BiasSVD():\n",
    "    def __init__(self, rating_data, F=5, alpha=0.1, lmbda=0.1, max_iter=100):\n",
    "        self.F = F          # 这个表示隐向量的维度\n",
    "        self.P = dict()     # 用户矩阵P  大小是[users_num, F]\n",
    "        self.Q = dict()     # 物品矩阵Q  大小是[item_nums, F]\n",
    "        self.bu = dict()    # 用户偏置系数\n",
    "        self.bi = dict()    # 物品偏置系数\n",
    "        self.mu = 0         # 全局偏置系数\n",
    "        self.alpha = alpha  # 学习率\n",
    "        self.lmbda = lmbda  # 正则项系数\n",
    "        self.max_iter = max_iter        # 最大迭代次数\n",
    "        self.rating_data = rating_data  # 评分矩阵\n",
    "\n",
    "        for user, items in self.rating_data.items():\n",
    "            # 初始化矩阵P和Q, 随机数需要和1/sqrt(F)成正比\n",
    "            self.P[user] = [random.random() / math.sqrt(self.F) for x in range(0, F)]\n",
    "            self.bu[user] = 0\n",
    "            for item, rating in items.items():\n",
    "                if item not in self.Q:\n",
    "                    self.Q[item] = [random.random() / math.sqrt(self.F) for x in range(0, F)]\n",
    "                    self.bi[item] = 0\n",
    "\n",
    "    # 采用随机梯度下降的方式训练模型参数\n",
    "    def train(self):\n",
    "        cnt, mu_sum = 0, 0\n",
    "        for user, items in self.rating_data.items():\n",
    "            for item, rui in items.items():\n",
    "                mu_sum, cnt = mu_sum + rui, cnt + 1\n",
    "        self.mu = mu_sum / cnt\n",
    "\n",
    "        for step in range(self.max_iter):\n",
    "            # 遍历所有的用户及历史交互物品\n",
    "            for user, items in self.rating_data.items():\n",
    "                # 遍历历史交互物品\n",
    "                for item, rui in items.items():\n",
    "                    rhat_ui = self.predict(user, item)  # 评分预测\n",
    "                    e_ui = rui - rhat_ui                  # 评分预测偏差\n",
    "\n",
    "                    # 参数更新\n",
    "                    self.bu[user] += self.alpha * (e_ui - self.lmbda * self.bu[user])\n",
    "                    self.bi[item] += self.alpha * (e_ui - self.lmbda * self.bi[item])\n",
    "                    for k in range(0, self.F):\n",
    "                        self.P[user][k] += self.alpha * (e_ui * self.Q[item][k] - self.lmbda * self.P[user][k])\n",
    "                        self.Q[item][k] += self.alpha * (e_ui * self.P[user][k] - self.lmbda * self.Q[item][k])\n",
    "            # 逐步降低学习率\n",
    "            self.alpha *= 0.1\n",
    "\n",
    "\n",
    "    # 评分预测\n",
    "    def predict(self, user, item):\n",
    "        return sum(self.P[user][f] * self.Q[item][f] for f in range(0, self.F)) + self.bu[user] + self.bi[\n",
    "            item] + self.mu\n",
    "\n",
    "\n",
    "# 通过字典初始化训练样本，分别表示不同用户（1-5）对不同物品（A-E)的真实评分\n",
    "def loadData():\n",
    "    rating_data={1: {'A': 5, 'B': 3, 'C': 4, 'D': 4},\n",
    "           2: {'A': 3, 'B': 1, 'C': 2, 'D': 3, 'E': 3},\n",
    "           3: {'A': 4, 'B': 3, 'C': 4, 'D': 3, 'E': 5},\n",
    "           4: {'A': 3, 'B': 3, 'C': 1, 'D': 5, 'E': 4},\n",
    "           5: {'A': 1, 'B': 5, 'C': 5, 'D': 2, 'E': 1}\n",
    "          }\n",
    "    return rating_data\n",
    "\n",
    "# 加载数据\n",
    "rating_data = loadData()\n",
    "# 建立模型\n",
    "basicsvd = BiasSVD(rating_data, F=10)\n",
    "# 参数训练\n",
    "basicsvd.train()\n",
    "# 预测用户1对物品E的评分\n",
    "for item in ['E']:\n",
    "    print(item, basicsvd.predict(1, item))\n",
    "\n",
    "# 预测结果：E 3.685084274454321\n"
   ],
   "outputs": [
    {
     "name": "stdout",
     "output_type": "stream",
     "text": [
      "E 3.7372100756120115\n"
     ]
    }
   ],
   "execution_count": 20
  }
 ],
 "metadata": {
  "kernelspec": {
   "display_name": "cityu",
   "language": "python",
   "name": "python3"
  },
  "language_info": {
   "codemirror_mode": {
    "name": "ipython",
    "version": 3
   },
   "file_extension": ".py",
   "mimetype": "text/x-python",
   "name": "python",
   "nbconvert_exporter": "python",
   "pygments_lexer": "ipython3",
   "version": "3.12.4"
  }
 },
 "nbformat": 4,
 "nbformat_minor": 2
}
